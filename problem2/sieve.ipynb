{
 "cells": [
  {
   "cell_type": "markdown",
   "id": "07e0cb38-fd4a-4033-b209-fd262b5ba536",
   "metadata": {},
   "source": [
    "# Investigating Scalene"
   ]
  },
  {
   "cell_type": "code",
   "execution_count": null,
   "id": "7fbff554-eeb2-4a5d-b61d-d061d984ad29",
   "metadata": {},
   "outputs": [],
   "source": []
  }
 ],
 "metadata": {
  "kernelspec": {
   "display_name": "Python 3 (ipykernel)",
   "language": "python",
   "name": "python3"
  },
  "language_info": {
   "codemirror_mode": {
    "name": "ipython",
    "version": 3
   },
   "file_extension": ".py",
   "mimetype": "text/x-python",
   "name": "python",
   "nbconvert_exporter": "python",
   "pygments_lexer": "ipython3",
   "version": "3.10.6"
  }
 },
 "nbformat": 4,
 "nbformat_minor": 5
}
